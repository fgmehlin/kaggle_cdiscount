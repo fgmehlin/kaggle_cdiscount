{
 "cells": [
  {
   "cell_type": "markdown",
   "metadata": {},
   "source": [
    "# Kaggle Kernel : Convert bson to files"
   ]
  },
  {
   "cell_type": "code",
   "execution_count": 2,
   "metadata": {
    "collapsed": true
   },
   "outputs": [],
   "source": [
    "import bson\n",
    "import numpy as np\n",
    "import pandas as pd\n",
    "import os\n",
    "from tqdm import tqdm_notebook\n",
    "from random import random"
   ]
  },
  {
   "cell_type": "code",
   "execution_count": 9,
   "metadata": {
    "collapsed": true
   },
   "outputs": [],
   "source": [
    "##########\n",
    "#  TRAIN :\n",
    "#  Creates a folder per category under input/train with the category's images\n",
    "#  e.g. input/train/1000000164/....jpg\n",
    "#\n",
    "#  TEST : \n",
    "#  Put all the test images in input/test\n",
    "#  e.g. input/test/....jpg\n",
    "#\n",
    "##########\n"
   ]
  },
  {
   "cell_type": "code",
   "execution_count": 4,
   "metadata": {},
   "outputs": [],
   "source": [
    "out_folder_train = 'input/train'\n",
    "out_folder_validation = 'input/validation'\n",
    "out_folder_test = 'input/test'\n",
    "\n",
    "# Create output folders\n",
    "if not os.path.exists(out_folder_train):\n",
    "    os.makedirs(out_folder_train)\n",
    "    \n",
    "if not os.path.exists(out_folder_test):\n",
    "    os.makedirs(out_folder_test)\n",
    "\n",
    "if not os.path.exists(out_folder_validation):\n",
    "    os.makedirs(out_folder_validation)"
   ]
  },
  {
   "cell_type": "code",
   "execution_count": 5,
   "metadata": {},
   "outputs": [],
   "source": [
    "# Create categories folders\n",
    "categories = pd.read_csv('input/category_names.csv', index_col='category_id')"
   ]
  },
  {
   "cell_type": "code",
   "execution_count": 6,
   "metadata": {},
   "outputs": [
    {
     "data": {
      "application/vnd.jupyter.widget-view+json": {
       "model_id": "8c9fa46c39ca4bb689e5b8b5939f19d0"
      }
     },
     "metadata": {},
     "output_type": "display_data"
    },
    {
     "name": "stdout",
     "output_type": "stream",
     "text": [
      "\n"
     ]
    }
   ],
   "source": [
    "for category in tqdm_notebook(categories.index):\n",
    "    os.mkdir(os.path.join(out_folder_train, str(category)))"
   ]
  },
  {
   "cell_type": "code",
   "execution_count": 7,
   "metadata": {},
   "outputs": [
    {
     "data": {
      "application/vnd.jupyter.widget-view+json": {
       "model_id": "d806daf492ac4312a2d9b459bccd690d"
      }
     },
     "metadata": {},
     "output_type": "display_data"
    },
    {
     "name": "stdout",
     "output_type": "stream",
     "text": [
      "\n"
     ]
    }
   ],
   "source": [
    "for category in tqdm_notebook(categories.index):\n",
    "    os.mkdir(os.path.join(out_folder_validation, str(category)))"
   ]
  },
  {
   "cell_type": "code",
   "execution_count": 9,
   "metadata": {},
   "outputs": [
    {
     "data": {
      "application/vnd.jupyter.widget-view+json": {
       "model_id": "37f1a5b11e1c4999b1e2b89e1d6267a5"
      }
     },
     "metadata": {},
     "output_type": "display_data"
    },
    {
     "name": "stdout",
     "output_type": "stream",
     "text": [
      "\n",
      "Total number of images : {}\n",
      "       Number of train example : {} ({}%)\n",
      "       Number of validation examples : {} ({}%)\n"
     ]
    },
    {
     "ename": "AttributeError",
     "evalue": "'NoneType' object has no attribute 'format'",
     "output_type": "error",
     "traceback": [
      "\u001b[0;31m---------------------------------------------------------------------------\u001b[0m",
      "\u001b[0;31mAttributeError\u001b[0m                            Traceback (most recent call last)",
      "\u001b[0;32m<ipython-input-9-98e262acd394>\u001b[0m in \u001b[0;36m<module>\u001b[0;34m()\u001b[0m\n\u001b[1;32m     26\u001b[0m         \u001b[0mbar\u001b[0m\u001b[0;34m.\u001b[0m\u001b[0mupdate\u001b[0m\u001b[0;34m(\u001b[0m\u001b[0;34m)\u001b[0m\u001b[0;34m\u001b[0m\u001b[0m\n\u001b[1;32m     27\u001b[0m \u001b[0;34m\u001b[0m\u001b[0m\n\u001b[0;32m---> 28\u001b[0;31m \u001b[0mprint\u001b[0m\u001b[0;34m(\u001b[0m\u001b[0;34m\"Total number of images : {}\\n       Number of train example : {} ({}%)\\n       Number of validation examples : {} ({}%)\"\u001b[0m\u001b[0;34m)\u001b[0m       \u001b[0;34m.\u001b[0m\u001b[0mformat\u001b[0m\u001b[0;34m(\u001b[0m\u001b[0mnum_product_total\u001b[0m\u001b[0;34m,\u001b[0m \u001b[0mcnt_train\u001b[0m\u001b[0;34m,\u001b[0m \u001b[0mcnt_train\u001b[0m\u001b[0;34m/\u001b[0m\u001b[0;34m(\u001b[0m\u001b[0;36m1.0\u001b[0m\u001b[0;34m*\u001b[0m\u001b[0mnum_product_total\u001b[0m\u001b[0;34m)\u001b[0m\u001b[0;34m,\u001b[0m \u001b[0mcnt_val\u001b[0m\u001b[0;34m/\u001b[0m\u001b[0;34m(\u001b[0m\u001b[0;34m(\u001b[0m\u001b[0;36m1.0\u001b[0m\u001b[0;34m*\u001b[0m\u001b[0mnum_product_total\u001b[0m\u001b[0;34m)\u001b[0m\u001b[0;34m)\u001b[0m\u001b[0;34m)\u001b[0m\u001b[0;34m\u001b[0m\u001b[0m\n\u001b[0m",
      "\u001b[0;31mAttributeError\u001b[0m: 'NoneType' object has no attribute 'format'"
     ]
    },
    {
     "name": "stdout",
     "output_type": "stream",
     "text": [
      "\r",
      "          \r",
      "7069896/|/100%|| 7069896/7069896 [30:55<00:00, 6103.58it/s]"
     ]
    }
   ],
   "source": [
    "num_product_total = 7069896\n",
    "num_products_train = int(num_product_total*0.7)  \n",
    "num_product_validation = num_product_total - num_products_train\n",
    "\n",
    "bar = tqdm_notebook(total=num_product_total)\n",
    "cnt_train = 0\n",
    "cnt_val = 0\n",
    "with open('input/train.bson', 'rb') as fbson:\n",
    "\n",
    "    data = bson.decode_file_iter(fbson)\n",
    "    \n",
    "    for c, d in enumerate(data):\n",
    "        category = d['category_id']\n",
    "        _id = d['_id']\n",
    "        for e, pic in enumerate(d['imgs']):\n",
    "            if random() <= 0.7 :\n",
    "                fname = os.path.join(out_folder_train, str(category), '{}-{}.jpg'.format(_id, e))\n",
    "                cnt_train +=1\n",
    "            else:\n",
    "                name = os.path.join(out_folder_validation, str(category), '{}-{}.jpg'.format(_id, e))\n",
    "                cnt_val +=1\n",
    "                \n",
    "            with open(fname, 'wb') as f:\n",
    "                f.write(pic['picture'])\n",
    "\n",
    "        bar.update()\n",
    "\n",
    "print(\"Total number of images : {}\\n \\\n",
    "      Number of train example : {} ({}%)\\n \\\n",
    "      Number of validation examples : {} ({}%)\".format((cnt_train+cnt_val), cnt_train, cnt_train/(cnt_train+cnt_val), cnt_val, cnt_val/(cnt_train+cnt_val)))\n"
   ]
  },
  {
   "cell_type": "code",
   "execution_count": 18,
   "metadata": {},
   "outputs": [
    {
     "name": "stdout",
     "output_type": "stream",
     "text": [
      "Total number of images : 12371293\n",
      "       Number of train example : 8658771 (0.699908328094727%)\n",
      "       Number of validation examples : 3712522 (0.30009167190527297%)\n"
     ]
    }
   ],
   "source": [
    "print(\"Total number of images : {}\\n \\\n",
    "      Number of train example : {} ({}%)\\n \\\n",
    "      Number of validation examples : {} ({}%)\".format((cnt_train+cnt_val), cnt_train, cnt_train/(cnt_train+cnt_val), cnt_val, cnt_val/(cnt_train+cnt_val)))"
   ]
  },
  {
   "cell_type": "code",
   "execution_count": null,
   "metadata": {
    "collapsed": true
   },
   "outputs": [],
   "source": []
  }
 ],
 "metadata": {
  "kernelspec": {
   "display_name": "Python [conda env:cdiscount]",
   "language": "python",
   "name": "conda-env-cdiscount-py"
  },
  "language_info": {
   "codemirror_mode": {
    "name": "ipython",
    "version": 3
   },
   "file_extension": ".py",
   "mimetype": "text/x-python",
   "name": "python",
   "nbconvert_exporter": "python",
   "pygments_lexer": "ipython3",
   "version": "3.6.1"
  }
 },
 "nbformat": 4,
 "nbformat_minor": 2
}

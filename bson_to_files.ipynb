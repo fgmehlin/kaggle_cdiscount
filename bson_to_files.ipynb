{
 "cells": [
  {
   "cell_type": "markdown",
   "metadata": {},
   "source": [
    "# Kaggle Kernel : Convert bson to files"
   ]
  },
  {
   "cell_type": "code",
   "execution_count": 1,
   "metadata": {
    "collapsed": true
   },
   "outputs": [],
   "source": [
    "import bson\n",
    "import numpy as np\n",
    "import pandas as pd\n",
    "import os\n",
    "from tqdm import tqdm_notebook"
   ]
  },
  {
   "cell_type": "code",
   "execution_count": 7,
   "metadata": {
    "collapsed": true
   },
   "outputs": [],
   "source": [
    "out_folder_train = 'input/train'\n",
    "out_folder_test = 'input/test'\n",
    "\n",
    "# Create output folders\n",
    "if not os.path.exists(out_folder_train):\n",
    "    os.makedirs(out_folder_train)\n",
    "    \n",
    "if not os.path.exists(out_folder_test):\n",
    "    os.makedirs(out_folder_test)"
   ]
  },
  {
   "cell_type": "code",
   "execution_count": 2,
   "metadata": {
    "collapsed": true
   },
   "outputs": [],
   "source": [
    "# Create categories folders\n",
    "categories = pd.read_csv('input/category_names.csv', index_col='category_id')"
   ]
  },
  {
   "cell_type": "code",
   "execution_count": 12,
   "metadata": {},
   "outputs": [
    {
     "data": {
      "application/vnd.jupyter.widget-view+json": {
       "model_id": "b6ddb04ff49f41c1971f072c62c72df3"
      }
     },
     "metadata": {},
     "output_type": "display_data"
    }
   ],
   "source": [
    "for category in tqdm_notebook(categories.index):\n",
    "    os.mkdir(os.path.join(out_folder_train, str(category)))"
   ]
  },
  {
   "cell_type": "code",
   "execution_count": null,
   "metadata": {
    "collapsed": true
   },
   "outputs": [],
   "source": [
    "for category in tqdm_notebook(categories.index):\n",
    "    os.mkdir(os.path.join(out_folder_test, str(category)))"
   ]
  },
  {
   "cell_type": "code",
   "execution_count": 13,
   "metadata": {},
   "outputs": [
    {
     "data": {
      "application/vnd.jupyter.widget-view+json": {
       "model_id": "e26beb39af0b47e7ae33b214e457dfbc"
      }
     },
     "metadata": {},
     "output_type": "display_data"
    },
    {
     "name": "stdout",
     "output_type": "stream",
     "text": [
      "\n",
      "7069896/|/100%|| 7069896/7069896 [28:27<00:00, 4572.93it/s]"
     ]
    }
   ],
   "source": [
    "num_products_train = 7069896  # 7069896 for train\n",
    "\n",
    "bar = tqdm_notebook(total=num_products_train)\n",
    "with open('input/train.bson', 'rb') as fbson:\n",
    "\n",
    "    data = bson.decode_file_iter(fbson)\n",
    "    \n",
    "    for c, d in enumerate(data):\n",
    "        category = d['category_id']\n",
    "        _id = d['_id']\n",
    "        for e, pic in enumerate(d['imgs']):\n",
    "            fname = os.path.join(out_folder_train, str(category), '{}-{}.jpg'.format(_id, e))\n",
    "            with open(fname, 'wb') as f:\n",
    "                f.write(pic['picture'])\n",
    "\n",
    "        bar.update()"
   ]
  },
  {
   "cell_type": "code",
   "execution_count": 8,
   "metadata": {},
   "outputs": [
    {
     "data": {
      "application/vnd.jupyter.widget-view+json": {
       "model_id": "68d63bb3cf3c4c13b10e92e09c22c475"
      }
     },
     "metadata": {},
     "output_type": "display_data"
    },
    {
     "name": "stdout",
     "output_type": "stream",
     "text": [
      "\n",
      "1768182/|/100%|| 1768182/1768182 [05:42<00:00, 7590.65it/s]"
     ]
    }
   ],
   "source": [
    "num_products_test = 1768182  # 1768182 for test\n",
    "\n",
    "bar = tqdm_notebook(total=num_products_test)\n",
    "with open('input/test.bson', 'rb') as fbson:\n",
    "\n",
    "    data = bson.decode_file_iter(fbson)\n",
    "    \n",
    "    for c, d in enumerate(data):\n",
    "        _id = d['_id']\n",
    "        for e, pic in enumerate(d['imgs']):\n",
    "            fname = os.path.join(out_folder_test, '{}-{}.jpg'.format(_id, e))\n",
    "            with open(fname, 'wb') as f:\n",
    "                f.write(pic['picture'])\n",
    "\n",
    "        bar.update()"
   ]
  },
  {
   "cell_type": "code",
   "execution_count": null,
   "metadata": {
    "collapsed": true
   },
   "outputs": [],
   "source": []
  }
 ],
 "metadata": {
  "kernelspec": {
   "display_name": "Python [conda env:cdiscount]",
   "language": "python",
   "name": "conda-env-cdiscount-py"
  },
  "language_info": {
   "codemirror_mode": {
    "name": "ipython",
    "version": 3
   },
   "file_extension": ".py",
   "mimetype": "text/x-python",
   "name": "python",
   "nbconvert_exporter": "python",
   "pygments_lexer": "ipython3",
   "version": "3.6.1"
  }
 },
 "nbformat": 4,
 "nbformat_minor": 2
}

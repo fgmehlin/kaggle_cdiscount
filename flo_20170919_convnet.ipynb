{
 "cells": [
  {
   "cell_type": "markdown",
   "metadata": {},
   "source": [
    "# Cdiscount ConvNet with Keras"
   ]
  },
  {
   "cell_type": "code",
   "execution_count": 1,
   "metadata": {},
   "outputs": [
    {
     "name": "stderr",
     "output_type": "stream",
     "text": [
      "Using TensorFlow backend.\n"
     ]
    }
   ],
   "source": [
    "import os\n",
    "import glob\n",
    "from scipy import misc\n",
    "import numpy as np\n",
    "from keras.models import Sequential\n",
    "from keras.layers import Conv2D, MaxPooling2D\n",
    "from keras.layers import Activation, Dropout, Flatten, Dense\n",
    "from keras import backend as K\n",
    "from keras.preprocessing.image import ImageDataGenerator\n",
    "from tqdm import tqdm_notebook as tqdmn"
   ]
  },
  {
   "cell_type": "markdown",
   "metadata": {},
   "source": [
    "## Import the data into numpy array"
   ]
  },
  {
   "cell_type": "code",
   "execution_count": 2,
   "metadata": {
    "collapsed": true
   },
   "outputs": [],
   "source": [
    "img_width = 180\n",
    "img_height = 180\n",
    "n_channel = 3\n",
    "train_folder = 'input/train'\n",
    "validation_folder = 'input/validation'\n",
    "test_folder = 'input/test'\n",
    "\n",
    "class_list = os.listdir(train_folder)\n",
    "n_classes = len(class_list)\n",
    "n_train_examples = 12371293 #adapt\n",
    "n_test_examples = 3095080\n",
    "\n"
   ]
  },
  {
   "cell_type": "code",
   "execution_count": 3,
   "metadata": {},
   "outputs": [
    {
     "ename": "NameError",
     "evalue": "name 'N_TRAINING_PER_CLASS' is not defined",
     "output_type": "error",
     "traceback": [
      "\u001b[0;31m---------------------------------------------------------------------------\u001b[0m",
      "\u001b[0;31mNameError\u001b[0m                                 Traceback (most recent call last)",
      "\u001b[0;32m<ipython-input-3-5f2af9089712>\u001b[0m in \u001b[0;36m<module>\u001b[0;34m()\u001b[0m\n\u001b[0;32m----> 1\u001b[0;31m \u001b[0mN_TRAINING_PER_CLASS\u001b[0m\u001b[0;34m\u001b[0m\u001b[0m\n\u001b[0m",
      "\u001b[0;31mNameError\u001b[0m: name 'N_TRAINING_PER_CLASS' is not defined"
     ]
    }
   ],
   "source": [
    "N_TRAINING_PER_CLASS"
   ]
  },
  {
   "cell_type": "code",
   "execution_count": 3,
   "metadata": {
    "collapsed": true
   },
   "outputs": [],
   "source": [
    "K.set_image_dim_ordering('th')\n",
    "if K.image_data_format() == 'channels_first':\n",
    "    input_shape = (n_channel, img_width, img_height)\n",
    "else:\n",
    "    input_shape = (img_width, img_height, n_channel)\n",
    "    \n",
    "model = Sequential()\n",
    "model.add(Conv2D(32, (3, 3), input_shape=input_shape))\n",
    "model.add(Activation('relu'))\n",
    "model.add(MaxPooling2D(pool_size=(2, 2)))\n",
    "\n",
    "model.add(Conv2D(64, (3, 3)))\n",
    "model.add(Activation('relu'))\n",
    "model.add(MaxPooling2D(pool_size=(2, 2)))\n",
    "\n",
    "model.add(Conv2D(64, (3, 3)))\n",
    "model.add(Activation('relu'))\n",
    "model.add(MaxPooling2D(pool_size=(2, 2)))\n",
    "\n",
    "model.add(Flatten())  # this converts our 3D feature maps to 1D feature vectors\n",
    "model.add(Dense(64))\n",
    "model.add(Activation('relu'))\n",
    "model.add(Dropout(0.5))\n",
    "model.add(Dense(5270))\n",
    "model.add(Activation('softmax'))\n",
    "\n",
    "model.compile(loss='categorical_crossentropy',\n",
    "              optimizer='rmsprop',\n",
    "              metrics=['accuracy'])"
   ]
  },
  {
   "cell_type": "code",
   "execution_count": 4,
   "metadata": {},
   "outputs": [
    {
     "name": "stdout",
     "output_type": "stream",
     "text": [
      "Found 8659498 images belonging to 5270 classes.\n",
      "Found 3711795 images belonging to 5270 classes.\n"
     ]
    }
   ],
   "source": [
    "batch_size = 16\n",
    "\n",
    "train_datagen = ImageDataGenerator(\n",
    "        rescale=1./255,\n",
    "        shear_range=0.2,\n",
    "        zoom_range=0.2,\n",
    "        horizontal_flip=True)\n",
    "\n",
    "test_datagen = ImageDataGenerator(rescale=1./255)\n",
    "\n",
    "train_generator = train_datagen.flow_from_directory(\n",
    "        'input/train',  \n",
    "        target_size=(img_height, img_width), \n",
    "        batch_size=batch_size,\n",
    "        class_mode='categorical')\n",
    "\n",
    "test_generator = test_datagen.flow_from_directory(\n",
    "        'input/validation',\n",
    "        target_size=(img_height, img_width),\n",
    "        batch_size=batch_size,\n",
    "        class_mode='categorical')"
   ]
  },
  {
   "cell_type": "code",
   "execution_count": 5,
   "metadata": {},
   "outputs": [
    {
     "name": "stdout",
     "output_type": "stream",
     "text": [
      "[name: \"/cpu:0\"\n",
      "device_type: \"CPU\"\n",
      "memory_limit: 268435456\n",
      "locality {\n",
      "}\n",
      "incarnation: 13758465111039610198\n",
      ", name: \"/gpu:0\"\n",
      "device_type: \"GPU\"\n",
      "memory_limit: 1392836608\n",
      "locality {\n",
      "  bus_id: 1\n",
      "}\n",
      "incarnation: 16953869981788945744\n",
      "physical_device_desc: \"device: 0, name: GeForce 940MX, pci bus id: 0000:02:00.0\"\n",
      "]\n"
     ]
    }
   ],
   "source": [
    "from tensorflow.python.client import device_lib\n",
    "print(device_lib.list_local_devices())"
   ]
  },
  {
   "cell_type": "code",
   "execution_count": 6,
   "metadata": {
    "scrolled": false
   },
   "outputs": [
    {
     "name": "stdout",
     "output_type": "stream",
     "text": [
      "Epoch 1/50\n",
      "125/125 [==============================] - 123s - loss: 8.0322 - acc: 0.0045 - val_loss: 7.3822 - val_acc: 0.0088\n",
      "Epoch 2/50\n",
      "125/125 [==============================] - 39s - loss: 7.3835 - acc: 0.0060 - val_loss: 7.2795 - val_acc: 0.0050\n",
      "Epoch 3/50\n",
      "125/125 [==============================] - 39s - loss: 7.2480 - acc: 0.0085 - val_loss: 7.2238 - val_acc: 0.0050\n",
      "Epoch 4/50\n",
      "125/125 [==============================] - 41s - loss: 7.1844 - acc: 0.0070 - val_loss: 7.1324 - val_acc: 0.0075\n",
      "Epoch 5/50\n",
      "125/125 [==============================] - 41s - loss: 7.2021 - acc: 0.0070 - val_loss: 7.0443 - val_acc: 0.0112\n",
      "Epoch 6/50\n",
      "125/125 [==============================] - 41s - loss: 7.1427 - acc: 0.0055 - val_loss: 7.1187 - val_acc: 0.0063\n",
      "Epoch 7/50\n",
      "125/125 [==============================] - 41s - loss: 7.0920 - acc: 0.0090 - val_loss: 7.0540 - val_acc: 0.0075\n",
      "Epoch 8/50\n",
      "125/125 [==============================] - 40s - loss: 7.1807 - acc: 0.0065 - val_loss: 6.9809 - val_acc: 0.0050\n",
      "Epoch 9/50\n",
      "125/125 [==============================] - 38s - loss: 7.1434 - acc: 0.0065 - val_loss: 7.0505 - val_acc: 0.0138\n",
      "Epoch 10/50\n",
      "125/125 [==============================] - 39s - loss: 7.0688 - acc: 0.0080 - val_loss: 7.0812 - val_acc: 0.0100\n",
      "Epoch 11/50\n",
      "125/125 [==============================] - 39s - loss: 7.0642 - acc: 0.0055 - val_loss: 6.8639 - val_acc: 0.0063\n",
      "Epoch 12/50\n",
      "125/125 [==============================] - 39s - loss: 7.1051 - acc: 0.0065 - val_loss: 6.9731 - val_acc: 0.0063\n",
      "Epoch 13/50\n",
      "125/125 [==============================] - 39s - loss: 7.1318 - acc: 0.0070 - val_loss: 7.1190 - val_acc: 0.0187\n",
      "Epoch 14/50\n",
      "125/125 [==============================] - 39s - loss: 7.0560 - acc: 0.0110 - val_loss: 6.9769 - val_acc: 0.0037\n",
      "Epoch 15/50\n",
      "125/125 [==============================] - 39s - loss: 7.0533 - acc: 0.0090 - val_loss: 6.9429 - val_acc: 0.0050\n",
      "Epoch 16/50\n",
      "125/125 [==============================] - 39s - loss: 6.9745 - acc: 0.0090 - val_loss: 6.9252 - val_acc: 0.0075\n",
      "Epoch 17/50\n",
      "125/125 [==============================] - 39s - loss: 6.9735 - acc: 0.0050 - val_loss: 7.0809 - val_acc: 0.0088\n",
      "Epoch 18/50\n",
      "125/125 [==============================] - 39s - loss: 7.0365 - acc: 0.0090 - val_loss: 6.9019 - val_acc: 0.0100\n",
      "Epoch 19/50\n",
      "125/125 [==============================] - 38s - loss: 6.9708 - acc: 0.0095 - val_loss: 6.9767 - val_acc: 0.0088\n",
      "Epoch 20/50\n",
      "125/125 [==============================] - 39s - loss: 7.0139 - acc: 0.0090 - val_loss: 6.9108 - val_acc: 0.0100\n",
      "Epoch 21/50\n",
      "125/125 [==============================] - 39s - loss: 7.0043 - acc: 0.0080 - val_loss: 6.9281 - val_acc: 0.0063\n",
      "Epoch 22/50\n",
      "125/125 [==============================] - 39s - loss: 6.9529 - acc: 0.0095 - val_loss: 7.0395 - val_acc: 0.0138\n",
      "Epoch 23/50\n",
      "125/125 [==============================] - 39s - loss: 6.9642 - acc: 0.0100 - val_loss: 6.9854 - val_acc: 0.0025\n",
      "Epoch 24/50\n",
      "125/125 [==============================] - 39s - loss: 6.9610 - acc: 0.0075 - val_loss: 7.0387 - val_acc: 0.0037\n",
      "Epoch 25/50\n",
      "125/125 [==============================] - 39s - loss: 6.9741 - acc: 0.0090 - val_loss: 6.9677 - val_acc: 0.0125\n",
      "Epoch 26/50\n",
      "125/125 [==============================] - 39s - loss: 6.9918 - acc: 0.0055 - val_loss: 6.9142 - val_acc: 0.0075\n",
      "Epoch 27/50\n",
      "125/125 [==============================] - 39s - loss: 6.9314 - acc: 0.0085 - val_loss: 6.9366 - val_acc: 0.0112\n",
      "Epoch 28/50\n",
      "125/125 [==============================] - 39s - loss: 6.9837 - acc: 0.0070 - val_loss: 6.9858 - val_acc: 0.0100\n",
      "Epoch 29/50\n",
      "125/125 [==============================] - 39s - loss: 6.9753 - acc: 0.0105 - val_loss: 6.9313 - val_acc: 0.0112\n",
      "Epoch 30/50\n",
      "125/125 [==============================] - 39s - loss: 7.0096 - acc: 0.0115 - val_loss: 6.7979 - val_acc: 0.0187\n",
      "Epoch 31/50\n",
      "125/125 [==============================] - 39s - loss: 6.9791 - acc: 0.0105 - val_loss: 6.9791 - val_acc: 0.0088\n",
      "Epoch 32/50\n",
      "125/125 [==============================] - 39s - loss: 7.0047 - acc: 0.0085 - val_loss: 6.9071 - val_acc: 0.0163\n",
      "Epoch 33/50\n",
      "125/125 [==============================] - 38s - loss: 6.9496 - acc: 0.0095 - val_loss: 6.9536 - val_acc: 0.0075\n",
      "Epoch 34/50\n",
      "125/125 [==============================] - 39s - loss: 6.9852 - acc: 0.0100 - val_loss: 6.9397 - val_acc: 0.0075\n",
      "Epoch 35/50\n",
      "125/125 [==============================] - 38s - loss: 6.9417 - acc: 0.0070 - val_loss: 7.0446 - val_acc: 0.0063\n",
      "Epoch 36/50\n",
      "125/125 [==============================] - 38s - loss: 6.9874 - acc: 0.0105 - val_loss: 6.8478 - val_acc: 0.0037\n",
      "Epoch 37/50\n",
      "125/125 [==============================] - 38s - loss: 6.8497 - acc: 0.0130 - val_loss: 6.9228 - val_acc: 0.0013\n",
      "Epoch 38/50\n",
      "125/125 [==============================] - 39s - loss: 6.9687 - acc: 0.0110 - val_loss: 6.8754 - val_acc: 0.0187\n",
      "Epoch 39/50\n",
      "125/125 [==============================] - 39s - loss: 6.9523 - acc: 0.0080 - val_loss: 6.9090 - val_acc: 0.0088\n",
      "Epoch 40/50\n",
      "125/125 [==============================] - 39s - loss: 6.9581 - acc: 0.0125 - val_loss: 6.8800 - val_acc: 0.0088\n",
      "Epoch 41/50\n",
      "125/125 [==============================] - 39s - loss: 6.9763 - acc: 0.0105 - val_loss: 6.9330 - val_acc: 0.0125\n",
      "Epoch 42/50\n",
      "125/125 [==============================] - 39s - loss: 6.9162 - acc: 0.0070 - val_loss: 6.8128 - val_acc: 0.0138\n",
      "Epoch 43/50\n",
      "125/125 [==============================] - 39s - loss: 6.9934 - acc: 0.0110 - val_loss: 6.8314 - val_acc: 0.0150\n",
      "Epoch 44/50\n",
      "125/125 [==============================] - 39s - loss: 6.9906 - acc: 0.0095 - val_loss: 7.0060 - val_acc: 0.0125\n",
      "Epoch 45/50\n",
      "125/125 [==============================] - 39s - loss: 6.9604 - acc: 0.0120 - val_loss: 6.9718 - val_acc: 0.0075\n",
      "Epoch 46/50\n",
      "125/125 [==============================] - 39s - loss: 6.8498 - acc: 0.0105 - val_loss: 6.9516 - val_acc: 0.0088\n",
      "Epoch 47/50\n",
      "125/125 [==============================] - 39s - loss: 6.9223 - acc: 0.0100 - val_loss: 6.9806 - val_acc: 0.0088\n",
      "Epoch 48/50\n",
      "125/125 [==============================] - 38s - loss: 6.9379 - acc: 0.0115 - val_loss: 6.8213 - val_acc: 0.0088\n",
      "Epoch 49/50\n",
      "125/125 [==============================] - 38s - loss: 6.9276 - acc: 0.0060 - val_loss: 6.8161 - val_acc: 0.0088\n",
      "Epoch 50/50\n",
      "125/125 [==============================] - 38s - loss: 6.9047 - acc: 0.0075 - val_loss: 6.9794 - val_acc: 0.0075\n"
     ]
    }
   ],
   "source": [
    "model.fit_generator(\n",
    "        train_generator,\n",
    "        steps_per_epoch=2000 // batch_size,\n",
    "        epochs=50,\n",
    "        validation_data=test_generator,\n",
    "        validation_steps=800 // batch_size)\n",
    "model.save_weights('convnet_weights_1.h5')"
   ]
  },
  {
   "cell_type": "code",
   "execution_count": 10,
   "metadata": {},
   "outputs": [],
   "source": [
    "scores = model.evaluate_generator(test_generator, 2000 // batch_size)"
   ]
  },
  {
   "cell_type": "code",
   "execution_count": 11,
   "metadata": {},
   "outputs": [
    {
     "name": "stdout",
     "output_type": "stream",
     "text": [
      "Accuracy =  0.0075\n"
     ]
    }
   ],
   "source": [
    "print(\"Accuracy = \", scores[1])"
   ]
  }
 ],
 "metadata": {
  "kernelspec": {
   "display_name": "Python [default]",
   "language": "python",
   "name": "python3"
  },
  "language_info": {
   "codemirror_mode": {
    "name": "ipython",
    "version": 3
   },
   "file_extension": ".py",
   "mimetype": "text/x-python",
   "name": "python",
   "nbconvert_exporter": "python",
   "pygments_lexer": "ipython3",
   "version": "3.6.1"
  }
 },
 "nbformat": 4,
 "nbformat_minor": 2
}
